{
  "nbformat": 4,
  "nbformat_minor": 0,
  "metadata": {
    "colab": {
      "provenance": [],
      "authorship_tag": "ABX9TyMo0npZMf5xVUXCGLHWeBND",
      "include_colab_link": true
    },
    "kernelspec": {
      "name": "python3",
      "display_name": "Python 3"
    },
    "language_info": {
      "name": "python"
    }
  },
  "cells": [
    {
      "cell_type": "markdown",
      "metadata": {
        "id": "view-in-github",
        "colab_type": "text"
      },
      "source": [
        "<a href=\"https://colab.research.google.com/github/VirenderChib/Cat-VS-Dog-Population-in-USA/blob/main/Copy_of_Power_BI_Project_I.ipynb\" target=\"_parent\"><img src=\"https://colab.research.google.com/assets/colab-badge.svg\" alt=\"Open In Colab\"/></a>"
      ]
    },
    {
      "cell_type": "markdown",
      "source": [
        "## **Power BI Project-I**\n",
        "\n",
        "1. Cat vs Dog Popularity in the U.S.\n",
        "\n"
      ],
      "metadata": {
        "id": "_p9Mgg9vVx73"
      }
    },
    {
      "cell_type": "markdown",
      "source": [
        "1. **Cat vs Dog Popularity in the U.S.**\n",
        "\n",
        "  * Drive Links--->https://www.novypro.com/project/cat-vs-dog"
      ],
      "metadata": {
        "id": "C6m-Tqq8WU8Z"
      }
    }
  ]
}